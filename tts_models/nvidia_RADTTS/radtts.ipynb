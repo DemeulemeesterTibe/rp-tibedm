{
 "cells": [
  {
   "cell_type": "code",
   "execution_count": 1,
   "metadata": {},
   "outputs": [
    {
     "name": "stdout",
     "output_type": "stream",
     "text": [
      "g:\\rp-tibedm\\tts_models\\nvidia_RADTTS\\RadTTs\n"
     ]
    }
   ],
   "source": [
    "%cd RadTTs"
   ]
  },
  {
   "cell_type": "code",
   "execution_count": 2,
   "metadata": {},
   "outputs": [],
   "source": [
    "CONFIG_PATH = 'G:\\\\rp-tibedm\\\\tts_models\\\\nvidia_RADTTS\\RADTTS\\configs\\\\test.json'\n",
    "RADTTS_PATH = \"G:\\\\rp-tibedm\\\\tts_models\\\\nvidia_RADTTS\\RADTTS\\\\test.pt\"\n",
    "HG_PATH = 'G:\\\\rp-tibedm\\\\tts_models\\\\nvidia_RADTTS\\RADTTS\\models\\hifigan_generator\\hifigan_libritts100360_generator0p5.pt'\n",
    "HG_CONFIG_PATH = \"G:\\\\rp-tibedm\\\\tts_models\\\\nvidia_RADTTS\\RADTTS\\models\\hifigan_22khz_config.json\"\n",
    "TEXT_PATH = \"G:\\\\rp-tibedm\\\\tts_models\\\\nvidia_RADTTS\\RADTTS\\sentences.txt\""
   ]
  },
  {
   "cell_type": "code",
   "execution_count": 3,
   "metadata": {},
   "outputs": [
    {
     "name": "stdout",
     "output_type": "stream",
     "text": [
      "Applying spectral norm to text encoder LSTM\n",
      "Applying spectral norm to context encoder LSTM\n"
     ]
    },
    {
     "name": "stderr",
     "output_type": "stream",
     "text": [
      "c:\\Users\\tibed\\anaconda3\\envs\\radtts\\lib\\site-packages\\torch\\nn\\utils\\weight_norm.py:30: UserWarning: torch.nn.utils.weight_norm is deprecated in favor of torch.nn.utils.parametrizations.weight_norm.\n",
      "  warnings.warn(\"torch.nn.utils.weight_norm is deprecated in favor of torch.nn.utils.parametrizations.weight_norm.\")\n",
      "g:\\rp-tibedm\\tts_models\\nvidia_RADTTS\\RADTTS\\common.py:391: UserWarning: torch.qr is deprecated in favor of torch.linalg.qr and will be removed in a future PyTorch release.\n",
      "The boolean parameter 'some' has been replaced with a string parameter 'mode'.\n",
      "Q, R = torch.qr(A, some)\n",
      "should be replaced with\n",
      "Q, R = torch.linalg.qr(A, 'reduced' if some else 'complete') (Triggered internally at C:\\cb\\pytorch_1000000000000\\work\\aten\\src\\ATen\\native\\BatchLinearAlgebra.cpp:2432.)\n",
      "  W = torch.qr(torch.FloatTensor(c, c).normal_())[0]\n",
      "c:\\Users\\tibed\\anaconda3\\envs\\radtts\\lib\\site-packages\\torch\\functional.py:1822: UserWarning: torch.lu is deprecated in favor of torch.linalg.lu_factor / torch.linalg.lu_factor_ex and will be removed in a future PyTorch release.\n",
      "LU, pivots = torch.lu(A, compute_pivots)\n",
      "should be replaced with\n",
      "LU, pivots = torch.linalg.lu_factor(A, compute_pivots)\n",
      "and\n",
      "LU, pivots, info = torch.lu(A, compute_pivots, get_infos=True)\n",
      "should be replaced with\n",
      "LU, pivots, info = torch.linalg.lu_factor_ex(A, compute_pivots) (Triggered internally at C:\\cb\\pytorch_1000000000000\\work\\aten\\src\\ATen\\native\\BatchLinearAlgebra.cpp:2002.)\n",
      "  return torch._lu_with_info(A, pivot=pivot, check_errors=(not get_infos))\n",
      "Traceback (most recent call last):\n",
      "  File \"inference.py\", line 201, in <module>\n",
      "    infer(args.radtts_path, args.vocoder_path, args.config_vocoder,\n",
      "  File \"inference.py\", line 95, in infer\n",
      "    radtts.load_state_dict(state_dict, strict=False)\n",
      "  File \"c:\\Users\\tibed\\anaconda3\\envs\\radtts\\lib\\site-packages\\torch\\nn\\modules\\module.py\", line 2152, in load_state_dict\n",
      "    raise RuntimeError('Error(s) in loading state_dict for {}:\\n\\t{}'.format(\n",
      "RuntimeError: Error(s) in loading state_dict for RADTTS:\n",
      "\tsize mismatch for context_lstm.weight_ih_l0: copying a param with shape torch.Size([2080, 1044]) from checkpoint, the shape in current model is torch.Size([2080, 1040]).\n",
      "\tsize mismatch for context_lstm.weight_ih_l0_reverse: copying a param with shape torch.Size([2080, 1044]) from checkpoint, the shape in current model is torch.Size([2080, 1040]).\n"
     ]
    }
   ],
   "source": [
    "!python inference.py -c {CONFIG_PATH} -r {RADTTS_PATH} -v {HG_PATH} -k {HG_CONFIG_PATH} -t {TEXT_PATH} -s ljs --speaker_attributes ljs --speaker_text ljs -o results/\n"
   ]
  }
 ],
 "metadata": {
  "kernelspec": {
   "display_name": "radtts",
   "language": "python",
   "name": "python3"
  },
  "language_info": {
   "codemirror_mode": {
    "name": "ipython",
    "version": 3
   },
   "file_extension": ".py",
   "mimetype": "text/x-python",
   "name": "python",
   "nbconvert_exporter": "python",
   "pygments_lexer": "ipython3",
   "version": "3.8.18"
  }
 },
 "nbformat": 4,
 "nbformat_minor": 2
}
