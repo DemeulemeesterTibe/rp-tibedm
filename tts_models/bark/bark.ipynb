{
 "cells": [
  {
   "cell_type": "code",
   "execution_count": null,
   "metadata": {},
   "outputs": [],
   "source": [
    "!git clone https://huggingface.co/suno/bark"
   ]
  },
  {
   "cell_type": "code",
   "execution_count": 1,
   "metadata": {},
   "outputs": [
    {
     "name": "stdout",
     "output_type": "stream",
     "text": [
      "2.1.2\n",
      "True\n",
      "11.8\n",
      "8700\n",
      "NVIDIA GeForce RTX 4070\n",
      "3.10.13 | packaged by Anaconda, Inc. | (main, Sep 11 2023, 13:24:38) [MSC v.1916 64 bit (AMD64)]\n"
     ]
    }
   ],
   "source": [
    "# print pytorch cuda versioon\n",
    "import torch\n",
    "print(torch.__version__)\n",
    "print(torch.cuda.is_available())\n",
    "print(torch.version.cuda)\n",
    "print(torch.backends.cudnn.version())\n",
    "print(torch.cuda.get_device_name(0))\n",
    "import sys\n",
    "print(sys.version)"
   ]
  },
  {
   "cell_type": "code",
   "execution_count": 2,
   "metadata": {},
   "outputs": [
    {
     "name": "stderr",
     "output_type": "stream",
     "text": [
      "c:\\Users\\tibed\\anaconda3\\envs\\bark\\lib\\site-packages\\tqdm\\auto.py:21: TqdmWarning: IProgress not found. Please update jupyter and ipywidgets. See https://ipywidgets.readthedocs.io/en/stable/user_install.html\n",
      "  from .autonotebook import tqdm as notebook_tqdm\n",
      "c:\\Users\\tibed\\anaconda3\\envs\\bark\\lib\\site-packages\\torch\\nn\\utils\\weight_norm.py:30: UserWarning: torch.nn.utils.weight_norm is deprecated in favor of torch.nn.utils.parametrizations.weight_norm.\n",
      "  warnings.warn(\"torch.nn.utils.weight_norm is deprecated in favor of torch.nn.utils.parametrizations.weight_norm.\")\n"
     ]
    },
    {
     "name": "stdout",
     "output_type": "stream",
     "text": [
      "Model loaded\n"
     ]
    }
   ],
   "source": [
    "from TTS.tts.configs.bark_config import BarkConfig\n",
    "from TTS.tts.models.bark import Bark\n",
    "from scipy.io.wavfile import write as write_wav\n",
    "\n",
    "config = BarkConfig()\n",
    "model = Bark.init_from_config(config)\n",
    "model.load_checkpoint(config, checkpoint_dir=\"bark/\", eval=True)\n",
    "model.to(\"cuda\")\n",
    "print(\"Model loaded\")\n",
    "\n"
   ]
  },
  {
   "cell_type": "code",
   "execution_count": 6,
   "metadata": {},
   "outputs": [
    {
     "name": "stdout",
     "output_type": "stream",
     "text": [
      "This is a test using the bark model to clone a voice and generate speech.\n"
     ]
    },
    {
     "name": "stderr",
     "output_type": "stream",
     "text": [
      "100%|██████████| 100/100 [00:03<00:00, 33.19it/s]\n",
      "100%|██████████| 18/18 [00:08<00:00,  2.01it/s]\n"
     ]
    }
   ],
   "source": [
    "text = \"This is a test using the bark model to clone a voice and generate speech.\"\n",
    "print(text)\n",
    "audio = model.synthesize(text,\n",
    "                         config,\n",
    "                         speaker_id=\"obama\",\n",
    "                         voice_dirs=\"speakers\",\n",
    "                         temperature=1,\n",
    "                         )\n",
    "# print(audio)\n",
    "write_wav(\"obama-bark.wav\",rate=24000,data=audio[\"wav\"])"
   ]
  },
  {
   "cell_type": "code",
   "execution_count": null,
   "metadata": {},
   "outputs": [],
   "source": [
    "# cloning a speaker.\n",
    "# It assumes that you have a speaker file in `bark_voices/speaker_n/speaker.wav` or `bark_voices/speaker_n/speaker.npz`\n",
    "output_dict = model.synthesize(text, config, speaker_id=\"ljspeech\", voice_dirs=\"bark_voices/\")"
   ]
  }
 ],
 "metadata": {
  "kernelspec": {
   "display_name": "ResearchEnv",
   "language": "python",
   "name": "python3"
  },
  "language_info": {
   "codemirror_mode": {
    "name": "ipython",
    "version": 3
   },
   "file_extension": ".py",
   "mimetype": "text/x-python",
   "name": "python",
   "nbconvert_exporter": "python",
   "pygments_lexer": "ipython3",
   "version": "3.10.13"
  }
 },
 "nbformat": 4,
 "nbformat_minor": 2
}
